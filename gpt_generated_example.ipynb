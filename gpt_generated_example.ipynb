{
 "cells": [
  {
   "cell_type": "markdown",
   "source": [],
   "metadata": {
    "collapsed": false
   },
   "id": "17cec2bb0f242791"
  },
  {
   "cell_type": "code",
   "outputs": [
    {
     "name": "stdout",
     "output_type": "stream",
     "text": [
      "Audio file 'whale_song.wav' has been generated.\n"
     ]
    }
   ],
   "source": [
    "# This example was created using GPT-4 by pasting the content of https://www.nature.com/articles/s41467-024-47221-8\n",
    "# into a GPT-4 context window and requesting code that reproduced the whale song patterns\n",
    "import numpy as np\n",
    "import soundfile as sf\n",
    "\n",
    "def generate_click(frequency, duration, sample_rate):\n",
    "    \"\"\" Generate a sine wave representing a whale click at a given frequency and duration. \"\"\"\n",
    "    t = np.linspace(0, duration, int(sample_rate * duration), False)\n",
    "    click = 0.5 * np.sin(2 * np.pi * frequency * t)  # Sine wave at given frequency\n",
    "    return click\n",
    "\n",
    "def generate_silence(duration, sample_rate):\n",
    "    \"\"\" Generate silence for a given duration. \"\"\"\n",
    "    return np.zeros(int(sample_rate * duration))\n",
    "\n",
    "def generate_coda(rhythm_type, tempo, sample_rate):\n",
    "    \"\"\" Generate a coda with specified rhythm and tempo, output as audio. \"\"\"\n",
    "    base_ici = 0.2  # base inter-click interval in seconds\n",
    "    if rhythm_type == \"uniform\":\n",
    "        icis = np.full((tempo,), base_ici)\n",
    "    elif rhythm_type == \"accelerating\":\n",
    "        icis = np.linspace(base_ici, base_ici / 2, tempo)\n",
    "    elif rhythm_type == \"decelerating\":\n",
    "        icis = np.linspace(base_ici / 2, base_ici, tempo)\n",
    "\n",
    "    clicks = []\n",
    "    for ici in icis:\n",
    "        click = generate_click(frequency=500, duration=0.01, sample_rate=sample_rate)  # Typical whale click frequency\n",
    "        silence = generate_silence(ici, sample_rate)\n",
    "        clicks.append(np.concatenate([click, silence]))\n",
    "    return np.concatenate(clicks)\n",
    "\n",
    "def simulate_whale_song(coda_count, sample_rate=44100):\n",
    "    \"\"\" Simulate a sequence of whale codas with rubato and ornamentation, output as audio. \"\"\"\n",
    "    song = []\n",
    "    for _ in range(coda_count):\n",
    "        rhythm_type = np.random.choice([\"uniform\", \"accelerating\", \"decelerating\"])\n",
    "        tempo = np.random.choice([3, 4, 5])\n",
    "        coda = generate_coda(rhythm_type, tempo, sample_rate)\n",
    "        song.append(coda)\n",
    "    return np.concatenate(song)\n",
    "\n",
    "# Parameters\n",
    "sample_rate = 44100  # Standard CD-quality sample rate\n",
    "coda_count = 10  # Number of codas to simulate\n",
    "\n",
    "# Generate and save a sample whale song as audio\n",
    "np.random.seed(42)  # for reproducible results\n",
    "whale_song = simulate_whale_song(coda_count, sample_rate)\n",
    "sf.write('whale_song.wav', whale_song, sample_rate)\n",
    "\n",
    "print(\"Audio file 'whale_song.wav' has been generated.\")\n"
   ],
   "metadata": {
    "collapsed": false,
    "ExecuteTime": {
     "end_time": "2024-08-17T22:21:49.981497Z",
     "start_time": "2024-08-17T22:21:49.470736Z"
    }
   },
   "id": "4285700dc3679a36",
   "execution_count": 1
  },
  {
   "cell_type": "code",
   "outputs": [],
   "source": [],
   "metadata": {
    "collapsed": false
   },
   "id": "aabaa1626edcb40b"
  }
 ],
 "metadata": {
  "kernelspec": {
   "display_name": "Python 3",
   "language": "python",
   "name": "python3"
  },
  "language_info": {
   "codemirror_mode": {
    "name": "ipython",
    "version": 2
   },
   "file_extension": ".py",
   "mimetype": "text/x-python",
   "name": "python",
   "nbconvert_exporter": "python",
   "pygments_lexer": "ipython2",
   "version": "2.7.6"
  }
 },
 "nbformat": 4,
 "nbformat_minor": 5
}
